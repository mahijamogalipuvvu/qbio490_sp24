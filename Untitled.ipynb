{
 "cells": [
  {
   "cell_type": "code",
   "execution_count": null,
   "id": "34176591-53b9-45cc-9a28-c6e2fe62a86b",
   "metadata": {},
   "outputs": [],
   "source": [
    "import os\n",
    "os.chdir/Users/mahija/Desktop/QBIO490/qbio490_sp24/analysis-data)\n",
    "import cptac\n",
    "cptac.download(data"
   ]
  }
 ],
 "metadata": {
  "kernelspec": {
   "display_name": "Python 3 (ipykernel)",
   "language": "python",
   "name": "python3"
  },
  "language_info": {
   "codemirror_mode": {
    "name": "ipython",
    "version": 3
   },
   "file_extension": ".py",
   "mimetype": "text/x-python",
   "name": "python",
   "nbconvert_exporter": "python",
   "pygments_lexer": "ipython3",
   "version": "3.9.18"
  }
 },
 "nbformat": 4,
 "nbformat_minor": 5
}

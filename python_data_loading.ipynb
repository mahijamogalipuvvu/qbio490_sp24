{
 "cells": [
  {
   "cell_type": "code",
   "execution_count": null,
   "id": "1e14bd7e-bb6d-4176-a2c1-fe72c5a2caaf",
   "metadata": {},
   "outputs": [],
   "source": [
    "import os\n",
    "os.chdir"
   ]
  }
 ],
 "metadata": {
  "kernelspec": {
   "display_name": "Python 3 (ipykernel)",
   "language": "python",
   "name": "python3"
  },
  "language_info": {
   "codemirror_mode": {
    "name": "ipython",
    "version": 3
   },
   "file_extension": ".py",
   "mimetype": "text/x-python",
   "name": "python",
   "nbconvert_exporter": "python",
   "pygments_lexer": "ipython3",
   "version": "3.9.18"
  }
 },
 "nbformat": 4,
 "nbformat_minor": 5
}
